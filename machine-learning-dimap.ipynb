{
 "cells": [
  {
   "cell_type": "markdown",
   "metadata": {},
   "source": [
    "# DIM0782 - Machine Learning (DIMAp/UFRN/2024.1)\n",
    "\n",
    "## Preprocessing the data\n",
    "\n",
    "### Transforming non-structured data to structured data\n",
    "\n",
    "This is textual data, so the first step is to turn it into structured data by applying a transformer. I'm going to work mostly with BERT here.\n",
    "\n",
    "First, I'm going to define the imports block."
   ]
  },
  {
   "cell_type": "code",
   "execution_count": 1,
   "metadata": {},
   "outputs": [],
   "source": [
    "import numpy as np\n",
    "import pandas as pd\n",
    "import torch\n",
    "import transformers as ppb"
   ]
  },
  {
   "cell_type": "markdown",
   "metadata": {},
   "source": [
    "Now reading the sentiments dataset:"
   ]
  },
  {
   "cell_type": "code",
   "execution_count": 2,
   "metadata": {},
   "outputs": [
    {
     "data": {
      "text/html": [
       "<div>\n",
       "<style scoped>\n",
       "    .dataframe tbody tr th:only-of-type {\n",
       "        vertical-align: middle;\n",
       "    }\n",
       "\n",
       "    .dataframe tbody tr th {\n",
       "        vertical-align: top;\n",
       "    }\n",
       "\n",
       "    .dataframe thead th {\n",
       "        text-align: right;\n",
       "    }\n",
       "</style>\n",
       "<table border=\"1\" class=\"dataframe\">\n",
       "  <thead>\n",
       "    <tr style=\"text-align: right;\">\n",
       "      <th></th>\n",
       "      <th>text</th>\n",
       "      <th>label</th>\n",
       "    </tr>\n",
       "  </thead>\n",
       "  <tbody>\n",
       "    <tr>\n",
       "      <th>0</th>\n",
       "      <td>i just feel really helpless and heavy hearted</td>\n",
       "      <td>4</td>\n",
       "    </tr>\n",
       "    <tr>\n",
       "      <th>1</th>\n",
       "      <td>ive enjoyed being able to slouch about relax a...</td>\n",
       "      <td>0</td>\n",
       "    </tr>\n",
       "    <tr>\n",
       "      <th>2</th>\n",
       "      <td>i gave up my internship with the dmrg and am f...</td>\n",
       "      <td>4</td>\n",
       "    </tr>\n",
       "    <tr>\n",
       "      <th>3</th>\n",
       "      <td>i dont know i feel so lost</td>\n",
       "      <td>0</td>\n",
       "    </tr>\n",
       "    <tr>\n",
       "      <th>4</th>\n",
       "      <td>i am a kindergarten teacher and i am thoroughl...</td>\n",
       "      <td>4</td>\n",
       "    </tr>\n",
       "  </tbody>\n",
       "</table>\n",
       "</div>"
      ],
      "text/plain": [
       "                                                text  label\n",
       "0      i just feel really helpless and heavy hearted      4\n",
       "1  ive enjoyed being able to slouch about relax a...      0\n",
       "2  i gave up my internship with the dmrg and am f...      4\n",
       "3                         i dont know i feel so lost      0\n",
       "4  i am a kindergarten teacher and i am thoroughl...      4"
      ]
     },
     "execution_count": 2,
     "metadata": {},
     "output_type": "execute_result"
    }
   ],
   "source": [
    "sentiments_df = pd.read_csv(\"datasets/twitter_sentiment_base_original.csv\", usecols=[\"text\", \"label\"])\n",
    "sentiments_df.head()"
   ]
  },
  {
   "cell_type": "markdown",
   "metadata": {},
   "source": [
    "Now I'm going to utilize a BERT tokenizer to transform the text data that I have and then I'll concatenate this data with the sentiment labels that I had originally within my base."
   ]
  },
  {
   "cell_type": "code",
   "execution_count": 12,
   "metadata": {},
   "outputs": [],
   "source": [
    "## Tokenizing w/ BERT\n",
    "tokenizer = (ppb.BertTokenizer).from_pretrained('bert-base-uncased')\n",
    "sentiments_tokenized = sentiments_df[\"text\"].apply((lambda x: tokenizer.encode(x, add_special_tokens=True)))"
   ]
  },
  {
   "cell_type": "markdown",
   "metadata": {},
   "source": [
    "The code above outputs the tokenized data with rows of different sizes, since each sentence has a different length. We now need to apply a process called padding in order to make all of the sentences with equal size. "
   ]
  },
  {
   "cell_type": "code",
   "execution_count": 16,
   "metadata": {},
   "outputs": [
    {
     "data": {
      "text/html": [
       "<div>\n",
       "<style scoped>\n",
       "    .dataframe tbody tr th:only-of-type {\n",
       "        vertical-align: middle;\n",
       "    }\n",
       "\n",
       "    .dataframe tbody tr th {\n",
       "        vertical-align: top;\n",
       "    }\n",
       "\n",
       "    .dataframe thead th {\n",
       "        text-align: right;\n",
       "    }\n",
       "</style>\n",
       "<table border=\"1\" class=\"dataframe\">\n",
       "  <thead>\n",
       "    <tr style=\"text-align: right;\">\n",
       "      <th></th>\n",
       "      <th>text</th>\n",
       "      <th>label</th>\n",
       "    </tr>\n",
       "  </thead>\n",
       "  <tbody>\n",
       "    <tr>\n",
       "      <th>0</th>\n",
       "      <td>[101, 1045, 2074, 2514, 2428, 13346, 1998, 308...</td>\n",
       "      <td>4</td>\n",
       "    </tr>\n",
       "    <tr>\n",
       "      <th>1</th>\n",
       "      <td>[101, 4921, 2063, 5632, 2108, 2583, 2000, 2288...</td>\n",
       "      <td>0</td>\n",
       "    </tr>\n",
       "    <tr>\n",
       "      <th>2</th>\n",
       "      <td>[101, 1045, 2435, 2039, 2026, 22676, 2007, 199...</td>\n",
       "      <td>4</td>\n",
       "    </tr>\n",
       "    <tr>\n",
       "      <th>3</th>\n",
       "      <td>[101, 1045, 2123, 2102, 2113, 1045, 2514, 2061...</td>\n",
       "      <td>0</td>\n",
       "    </tr>\n",
       "    <tr>\n",
       "      <th>4</th>\n",
       "      <td>[101, 1045, 2572, 1037, 11793, 3836, 1998, 104...</td>\n",
       "      <td>4</td>\n",
       "    </tr>\n",
       "  </tbody>\n",
       "</table>\n",
       "</div>"
      ],
      "text/plain": [
       "                                                text  label\n",
       "0  [101, 1045, 2074, 2514, 2428, 13346, 1998, 308...      4\n",
       "1  [101, 4921, 2063, 5632, 2108, 2583, 2000, 2288...      0\n",
       "2  [101, 1045, 2435, 2039, 2026, 22676, 2007, 199...      4\n",
       "3  [101, 1045, 2123, 2102, 2113, 1045, 2514, 2061...      0\n",
       "4  [101, 1045, 2572, 1037, 11793, 3836, 1998, 104...      4"
      ]
     },
     "execution_count": 16,
     "metadata": {},
     "output_type": "execute_result"
    }
   ],
   "source": [
    "## Generating a new dataframe with the tokenized data appended with their associated labels\n",
    "sentiments_tokenized_df = pd.DataFrame({'text': sentiments_tokenized, 'label': sentiments_df['label']})\n",
    "\n",
    "## Getting the length of the biggest sentence on the dataset. All other rows will be padded accordingly.\n",
    "biggest_sentence_length = 0\n",
    "for i in sentiments_tokenized.values:\n",
    "    if len(i) > biggest_sentence_length:\n",
    "        biggest_sentence_length = len(i)\n",
    "\n",
    "## Now padding each sentence up to the biggest length\n",
    "def pad_sentence(sentence):\n",
    "    padding_size = biggest_sentence_length - len(sentence)\n",
    "    if padding_size > 0:\n",
    "        return np.pad(sentence, (0, padding_size), 'constant', constant_values=(0,))\n",
    "    return sentence\n",
    "sentiments_tokenized_df['text'] = sentiments_tokenized_df['text'].apply(pad_sentence)\n",
    "sentiments_tokenized_df.head()"
   ]
  },
  {
   "cell_type": "markdown",
   "metadata": {},
   "source": [
    "Additionally, I may want to generate a CSV file containing the structured data. This can be achieved by running:"
   ]
  },
  {
   "cell_type": "code",
   "execution_count": 17,
   "metadata": {},
   "outputs": [],
   "source": [
    "sentiments_tokenized_df.to_csv('datasets/twitter_sentiment_base_tokenized.csv')"
   ]
  },
  {
   "cell_type": "markdown",
   "metadata": {},
   "source": [
    "As part of the requirements, it was asked to generate a boxplot chart on the numeric attributes of the dataset (on our case, they're the labels):"
   ]
  },
  {
   "cell_type": "code",
   "execution_count": 16,
   "metadata": {},
   "outputs": [
    {
     "data": {
      "text/plain": [
       "<Axes: >"
      ]
     },
     "execution_count": 16,
     "metadata": {},
     "output_type": "execute_result"
    }
   ],
   "source": [
    "sentiments_df.boxplot(column='label')"
   ]
  },
  {
   "cell_type": "markdown",
   "metadata": {},
   "source": [
    "### Reduction of Instances"
   ]
  },
  {
   "cell_type": "markdown",
   "metadata": {},
   "source": [
    "As part of this work, it is required to reduce instances on my dataset.\n",
    "\n",
    "The goal here is to collect 14972 random instances from each of the 6 classes the sentiments dataset has, and create a new base with this balanced collection."
   ]
  },
  {
   "cell_type": "code",
   "execution_count": 18,
   "metadata": {},
   "outputs": [
    {
     "data": {
      "text/html": [
       "<div>\n",
       "<style scoped>\n",
       "    .dataframe tbody tr th:only-of-type {\n",
       "        vertical-align: middle;\n",
       "    }\n",
       "\n",
       "    .dataframe tbody tr th {\n",
       "        vertical-align: top;\n",
       "    }\n",
       "\n",
       "    .dataframe thead th {\n",
       "        text-align: right;\n",
       "    }\n",
       "</style>\n",
       "<table border=\"1\" class=\"dataframe\">\n",
       "  <thead>\n",
       "    <tr style=\"text-align: right;\">\n",
       "      <th></th>\n",
       "      <th>text</th>\n",
       "      <th>label</th>\n",
       "    </tr>\n",
       "  </thead>\n",
       "  <tbody>\n",
       "    <tr>\n",
       "      <th>133243</th>\n",
       "      <td>[101, 4921, 2063, 4342, 2000, 15161, 2870, 200...</td>\n",
       "      <td>0</td>\n",
       "    </tr>\n",
       "    <tr>\n",
       "      <th>88501</th>\n",
       "      <td>[101, 1045, 2525, 2514, 10231, 7685, 2138, 199...</td>\n",
       "      <td>0</td>\n",
       "    </tr>\n",
       "    <tr>\n",
       "      <th>131379</th>\n",
       "      <td>[101, 1045, 2514, 2066, 1045, 2031, 2439, 9587...</td>\n",
       "      <td>0</td>\n",
       "    </tr>\n",
       "    <tr>\n",
       "      <th>148369</th>\n",
       "      <td>[101, 1045, 2071, 4339, 1037, 2878, 2843, 2062...</td>\n",
       "      <td>0</td>\n",
       "    </tr>\n",
       "    <tr>\n",
       "      <th>134438</th>\n",
       "      <td>[101, 1045, 2467, 4025, 2000, 2514, 14710, 102...</td>\n",
       "      <td>0</td>\n",
       "    </tr>\n",
       "    <tr>\n",
       "      <th>...</th>\n",
       "      <td>...</td>\n",
       "      <td>...</td>\n",
       "    </tr>\n",
       "    <tr>\n",
       "      <th>142937</th>\n",
       "      <td>[101, 1045, 4384, 2026, 6181, 2318, 3110, 1037...</td>\n",
       "      <td>5</td>\n",
       "    </tr>\n",
       "    <tr>\n",
       "      <th>373641</th>\n",
       "      <td>[101, 1045, 2514, 2023, 2428, 7622, 2068, 1998...</td>\n",
       "      <td>5</td>\n",
       "    </tr>\n",
       "    <tr>\n",
       "      <th>148816</th>\n",
       "      <td>[101, 10047, 2183, 2000, 3745, 2055, 2026, 430...</td>\n",
       "      <td>5</td>\n",
       "    </tr>\n",
       "    <tr>\n",
       "      <th>23199</th>\n",
       "      <td>[101, 1045, 4342, 2008, 2065, 1045, 5454, 1062...</td>\n",
       "      <td>5</td>\n",
       "    </tr>\n",
       "    <tr>\n",
       "      <th>200225</th>\n",
       "      <td>[101, 1045, 2514, 2061, 9860, 2043, 1996, 2617...</td>\n",
       "      <td>5</td>\n",
       "    </tr>\n",
       "  </tbody>\n",
       "</table>\n",
       "<p>89832 rows × 2 columns</p>\n",
       "</div>"
      ],
      "text/plain": [
       "                                                     text  label\n",
       "133243  [101, 4921, 2063, 4342, 2000, 15161, 2870, 200...      0\n",
       "88501   [101, 1045, 2525, 2514, 10231, 7685, 2138, 199...      0\n",
       "131379  [101, 1045, 2514, 2066, 1045, 2031, 2439, 9587...      0\n",
       "148369  [101, 1045, 2071, 4339, 1037, 2878, 2843, 2062...      0\n",
       "134438  [101, 1045, 2467, 4025, 2000, 2514, 14710, 102...      0\n",
       "...                                                   ...    ...\n",
       "142937  [101, 1045, 4384, 2026, 6181, 2318, 3110, 1037...      5\n",
       "373641  [101, 1045, 2514, 2023, 2428, 7622, 2068, 1998...      5\n",
       "148816  [101, 10047, 2183, 2000, 3745, 2055, 2026, 430...      5\n",
       "23199   [101, 1045, 4342, 2008, 2065, 1045, 5454, 1062...      5\n",
       "200225  [101, 1045, 2514, 2061, 9860, 2043, 1996, 2617...      5\n",
       "\n",
       "[89832 rows x 2 columns]"
      ]
     },
     "execution_count": 18,
     "metadata": {},
     "output_type": "execute_result"
    }
   ],
   "source": [
    "## Variables for the sampling conditions\n",
    "sample_size, random_state = 14972, 42\n",
    "sampled_data = []\n",
    "\n",
    "for i in range(6): ## Since we have 6 sentimens, labeled from 0 to 5\n",
    "    sampled_data.append(sentiments_tokenized_df[sentiments_tokenized_df['label'] == i].sample(n=sample_size, random_state=random_state))\n",
    "\n",
    "sampled_sentiments_df = pd.concat(sampled_data)\n",
    "sampled_sentiments_df"
   ]
  },
  {
   "cell_type": "markdown",
   "metadata": {},
   "source": [
    "Now I'm just going to generate a CSV file with this new dataset."
   ]
  },
  {
   "cell_type": "code",
   "execution_count": 19,
   "metadata": {},
   "outputs": [],
   "source": [
    "sampled_sentiments_df.to_csv('datasets/twitter_sentiments_base_sampled.csv')"
   ]
  }
 ],
 "metadata": {
  "kernelspec": {
   "display_name": "Python 3",
   "language": "python",
   "name": "python3"
  },
  "language_info": {
   "codemirror_mode": {
    "name": "ipython",
    "version": 3
   },
   "file_extension": ".py",
   "mimetype": "text/x-python",
   "name": "python",
   "nbconvert_exporter": "python",
   "pygments_lexer": "ipython3",
   "version": "3.11.4"
  }
 },
 "nbformat": 4,
 "nbformat_minor": 2
}
