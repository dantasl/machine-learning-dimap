{
 "cells": [
  {
   "cell_type": "markdown",
   "metadata": {},
   "source": [
    "# DIM0782 - Machine Learning (DIMAp/UFRN/2024.1)\n",
    "\n",
    "## Preprocessing the data\n",
    "\n",
    "### Transforming non-structured data to structured data\n",
    "\n",
    "This is textual data, so the first step is to turn it into structured data by applying a transformer. I'm going to work mostly with BERT here.\n",
    "\n",
    "First, I'm going to define the imports block."
   ]
  },
  {
   "cell_type": "code",
   "execution_count": 1,
   "metadata": {},
   "outputs": [],
   "source": [
    "import numpy as np\n",
    "import pandas as pd\n",
    "import torch\n",
    "import transformers as ppb"
   ]
  },
  {
   "cell_type": "markdown",
   "metadata": {},
   "source": [
    "Now reading the sentiments dataset:"
   ]
  },
  {
   "cell_type": "code",
   "execution_count": 2,
   "metadata": {},
   "outputs": [
    {
     "data": {
      "text/html": [
       "<div>\n",
       "<style scoped>\n",
       "    .dataframe tbody tr th:only-of-type {\n",
       "        vertical-align: middle;\n",
       "    }\n",
       "\n",
       "    .dataframe tbody tr th {\n",
       "        vertical-align: top;\n",
       "    }\n",
       "\n",
       "    .dataframe thead th {\n",
       "        text-align: right;\n",
       "    }\n",
       "</style>\n",
       "<table border=\"1\" class=\"dataframe\">\n",
       "  <thead>\n",
       "    <tr style=\"text-align: right;\">\n",
       "      <th></th>\n",
       "      <th>text</th>\n",
       "      <th>label</th>\n",
       "    </tr>\n",
       "  </thead>\n",
       "  <tbody>\n",
       "    <tr>\n",
       "      <th>0</th>\n",
       "      <td>i just feel really helpless and heavy hearted</td>\n",
       "      <td>4</td>\n",
       "    </tr>\n",
       "    <tr>\n",
       "      <th>1</th>\n",
       "      <td>ive enjoyed being able to slouch about relax a...</td>\n",
       "      <td>0</td>\n",
       "    </tr>\n",
       "    <tr>\n",
       "      <th>2</th>\n",
       "      <td>i gave up my internship with the dmrg and am f...</td>\n",
       "      <td>4</td>\n",
       "    </tr>\n",
       "    <tr>\n",
       "      <th>3</th>\n",
       "      <td>i dont know i feel so lost</td>\n",
       "      <td>0</td>\n",
       "    </tr>\n",
       "    <tr>\n",
       "      <th>4</th>\n",
       "      <td>i am a kindergarten teacher and i am thoroughl...</td>\n",
       "      <td>4</td>\n",
       "    </tr>\n",
       "  </tbody>\n",
       "</table>\n",
       "</div>"
      ],
      "text/plain": [
       "                                                text  label\n",
       "0      i just feel really helpless and heavy hearted      4\n",
       "1  ive enjoyed being able to slouch about relax a...      0\n",
       "2  i gave up my internship with the dmrg and am f...      4\n",
       "3                         i dont know i feel so lost      0\n",
       "4  i am a kindergarten teacher and i am thoroughl...      4"
      ]
     },
     "execution_count": 2,
     "metadata": {},
     "output_type": "execute_result"
    }
   ],
   "source": [
    "sentiments_df = pd.read_csv(\"datasets/twitter_sentiment_base_original.csv\", usecols=[\"text\", \"label\"])\n",
    "sentiments_df.head()"
   ]
  },
  {
   "cell_type": "markdown",
   "metadata": {},
   "source": [
    "###  Creating a Shorter Dataset (Optional Step)\n",
    "-- -------------------------\n",
    "\n",
    "This might be helpful in case your base is originally too big to be processed on a reasonable time for this exercise. Running this block would still allow you to run the subsequent blocks of code with no issues. You can totally skip this step as well in case you have the computing power to process the original dataset."
   ]
  },
  {
   "cell_type": "code",
   "execution_count": 3,
   "metadata": {},
   "outputs": [
    {
     "data": {
      "text/html": [
       "<div>\n",
       "<style scoped>\n",
       "    .dataframe tbody tr th:only-of-type {\n",
       "        vertical-align: middle;\n",
       "    }\n",
       "\n",
       "    .dataframe tbody tr th {\n",
       "        vertical-align: top;\n",
       "    }\n",
       "\n",
       "    .dataframe thead th {\n",
       "        text-align: right;\n",
       "    }\n",
       "</style>\n",
       "<table border=\"1\" class=\"dataframe\">\n",
       "  <thead>\n",
       "    <tr style=\"text-align: right;\">\n",
       "      <th></th>\n",
       "      <th>text</th>\n",
       "      <th>label</th>\n",
       "    </tr>\n",
       "  </thead>\n",
       "  <tbody>\n",
       "    <tr>\n",
       "      <th>133243</th>\n",
       "      <td>ive learned to surround myself with women who ...</td>\n",
       "      <td>0</td>\n",
       "    </tr>\n",
       "    <tr>\n",
       "      <th>88501</th>\n",
       "      <td>i already feel crappy because of this and you ...</td>\n",
       "      <td>0</td>\n",
       "    </tr>\n",
       "    <tr>\n",
       "      <th>131379</th>\n",
       "      <td>i feel like i have lost mourned and moved past...</td>\n",
       "      <td>0</td>\n",
       "    </tr>\n",
       "    <tr>\n",
       "      <th>148369</th>\n",
       "      <td>i could write a whole lot more about why im fe...</td>\n",
       "      <td>0</td>\n",
       "    </tr>\n",
       "    <tr>\n",
       "      <th>134438</th>\n",
       "      <td>i always seem to feel inadequate</td>\n",
       "      <td>0</td>\n",
       "    </tr>\n",
       "    <tr>\n",
       "      <th>...</th>\n",
       "      <td>...</td>\n",
       "      <td>...</td>\n",
       "    </tr>\n",
       "    <tr>\n",
       "      <th>44216</th>\n",
       "      <td>i feel a strange sadness because the downhill ...</td>\n",
       "      <td>5</td>\n",
       "    </tr>\n",
       "    <tr>\n",
       "      <th>370216</th>\n",
       "      <td>i feel absolutely amazing when i have a conver...</td>\n",
       "      <td>5</td>\n",
       "    </tr>\n",
       "    <tr>\n",
       "      <th>118400</th>\n",
       "      <td>im not going to repeat every word written in t...</td>\n",
       "      <td>5</td>\n",
       "    </tr>\n",
       "    <tr>\n",
       "      <th>347704</th>\n",
       "      <td>i feel impressed to extend this to all</td>\n",
       "      <td>5</td>\n",
       "    </tr>\n",
       "    <tr>\n",
       "      <th>313471</th>\n",
       "      <td>i feel sort of dazed and cross eyed</td>\n",
       "      <td>5</td>\n",
       "    </tr>\n",
       "  </tbody>\n",
       "</table>\n",
       "<p>24000 rows × 2 columns</p>\n",
       "</div>"
      ],
      "text/plain": [
       "                                                     text  label\n",
       "133243  ive learned to surround myself with women who ...      0\n",
       "88501   i already feel crappy because of this and you ...      0\n",
       "131379  i feel like i have lost mourned and moved past...      0\n",
       "148369  i could write a whole lot more about why im fe...      0\n",
       "134438                   i always seem to feel inadequate      0\n",
       "...                                                   ...    ...\n",
       "44216   i feel a strange sadness because the downhill ...      5\n",
       "370216  i feel absolutely amazing when i have a conver...      5\n",
       "118400  im not going to repeat every word written in t...      5\n",
       "347704             i feel impressed to extend this to all      5\n",
       "313471                i feel sort of dazed and cross eyed      5\n",
       "\n",
       "[24000 rows x 2 columns]"
      ]
     },
     "execution_count": 3,
     "metadata": {},
     "output_type": "execute_result"
    }
   ],
   "source": [
    "sample_size, random_state = 4000, 42\n",
    "sampled_data = []\n",
    "\n",
    "for i in range(6): ## Since we have 6 sentimens, labeled from 0 to 5\n",
    "    sampled_data.append(sentiments_df[sentiments_df['label'] == i].sample(n=sample_size, random_state=random_state))\n",
    "\n",
    "sentiments_df = pd.concat(sampled_data)\n",
    "sentiments_df"
   ]
  },
  {
   "cell_type": "markdown",
   "metadata": {},
   "source": [
    "-- ----------\n",
    "### End of Optional Block"
   ]
  },
  {
   "cell_type": "markdown",
   "metadata": {},
   "source": [
    "Now I'm going to utilize a BERT tokenizer to transform the text data that I have."
   ]
  },
  {
   "cell_type": "code",
   "execution_count": 4,
   "metadata": {},
   "outputs": [
    {
     "data": {
      "application/vnd.jupyter.widget-view+json": {
       "model_id": "7e9d8764950643b6b27a7b8a181930e6",
       "version_major": 2,
       "version_minor": 0
      },
      "text/plain": [
       "tokenizer_config.json:   0%|          | 0.00/48.0 [00:00<?, ?B/s]"
      ]
     },
     "metadata": {},
     "output_type": "display_data"
    }
   ],
   "source": [
    "## Loading the pretrained model and tokenizer\n",
    "tokenizer = (ppb.DistilBertTokenizer).from_pretrained('distilbert-base-uncased')\n",
    "model = (ppb.DistilBertModel).from_pretrained('distilbert-base-uncased')\n",
    "\n",
    "## Tokenizing w/ BERT\n",
    "sentiments_tokenized = sentiments_df[\"text\"].apply((lambda x: tokenizer.encode(x, add_special_tokens=True)))"
   ]
  },
  {
   "cell_type": "markdown",
   "metadata": {},
   "source": [
    "The code above outputs the tokenized data with rows of different sizes, since each sentence has a different length. We now need to apply a process called padding in order to make all of the sentences with equal size. We will also need an attention mask, which will tell BERT which rows he should consider the data or not."
   ]
  },
  {
   "cell_type": "code",
   "execution_count": 5,
   "metadata": {},
   "outputs": [],
   "source": [
    "## Generating a new dataframe with the tokenized data appended with their associated labels\n",
    "biggest_sentence_length = 0\n",
    "for i in sentiments_tokenized.values:\n",
    "    if len(i) > biggest_sentence_length:\n",
    "        biggest_sentence_length = len(i)\n",
    "\n",
    "## Getting the values padded and the attention mask\n",
    "sentiments_tokenized_padded = np.array([i + [0]*(biggest_sentence_length-len(i)) for i in sentiments_tokenized.values])\n",
    "attention_mask = np.where(sentiments_tokenized_padded != 0, 1, 0)"
   ]
  },
  {
   "cell_type": "markdown",
   "metadata": {},
   "source": [
    "Now we're finally going to process those input IDs that we generated on the steps above and we will generate the actual BERT embeddings. Given the size of the dataset, I ran multiple tests and realized that memory would be an issue. I need to split this into batches and work from there."
   ]
  },
  {
   "cell_type": "code",
   "execution_count": null,
   "metadata": {},
   "outputs": [],
   "source": [
    "input_ids = torch.tensor(sentiments_tokenized_padded)\n",
    "attention_mask = torch.tensor(attention_mask)\n",
    "batch_size = 4000      # Change it as it is necessary \n",
    "all_hidden_states = [] # BERT generates what we call hidden states\n",
    "\n",
    "def batch_generator(input_ids, attention_mask, batch_size):\n",
    "    for i in range(0, len(input_ids), batch_size):\n",
    "        yield input_ids[i:i+batch_size], attention_mask[i:i+batch_size]\n",
    "\n",
    "## Processes the input over batches through the help of a generator\n",
    "with torch.no_grad():\n",
    "    for batch_ids, batch_mask in batch_generator(input_ids, attention_mask, batch_size):\n",
    "        outputs = model(batch_ids, attention_mask=batch_mask)\n",
    "        all_hidden_states.append(outputs.last_hidden_state)\n",
    "\n",
    "## Concatenates all batch results\n",
    "last_hidden_states = torch.cat(all_hidden_states, dim=0)"
   ]
  },
  {
   "cell_type": "markdown",
   "metadata": {},
   "source": [
    "#### Optional (minor)\n",
    "-- --------------\n",
    "\n",
    "Getting all of that on a file to ensure this data gets saved. Can be adapted to retrieve a previously saved tensor as well, so that you don't have to run the embeddings algorithm on the future."
   ]
  },
  {
   "cell_type": "code",
   "execution_count": 6,
   "metadata": {},
   "outputs": [],
   "source": [
    "## Saves or loads tensor to or from a file\n",
    "# torch.save(last_hidden_states, 'tensor.pt')\n",
    "last_hidden_states = torch.load('datasets/tensor.pt')"
   ]
  },
  {
   "cell_type": "markdown",
   "metadata": {},
   "source": [
    "-- ------------\n",
    "#### End of Minor Optional Block"
   ]
  },
  {
   "cell_type": "markdown",
   "metadata": {},
   "source": [
    "Now we can extract the features:"
   ]
  },
  {
   "cell_type": "code",
   "execution_count": 7,
   "metadata": {},
   "outputs": [],
   "source": [
    "sentiments_features = last_hidden_states[:,0,:].numpy()\n",
    "labels = sentiments_df['label']"
   ]
  },
  {
   "cell_type": "markdown",
   "metadata": {},
   "source": [
    "I'm also going to develop this auxiliary block that will be able to save my dataset with the n-dimension features I generate as a result from applying the techniques."
   ]
  },
  {
   "cell_type": "code",
   "execution_count": 29,
   "metadata": {},
   "outputs": [],
   "source": [
    "def features_to_csv(features, labels, filename):\n",
    "    df = pd.DataFrame(features, columns=[f'feature_{i}' for i in range(features.shape[1])])\n",
    "    df['label'] = labels.to_numpy()\n",
    "    \n",
    "    df.to_csv(filename, index=False)    \n",
    "\n",
    "## This is the line that will change depending on the file I want to generate\n",
    "features_to_csv(sentiments_features, labels, 'datasets/twitter_sentiment_base_ready.csv')"
   ]
  },
  {
   "cell_type": "markdown",
   "metadata": {},
   "source": [
    "## Reduction of Instances"
   ]
  },
  {
   "cell_type": "markdown",
   "metadata": {},
   "source": [
    "As part of this work, it is required to reduce instances on my dataset.\n",
    "\n",
    "The first dataset I was working with had about 400000 records, and I could not process the embeddings and tokenization on a timely manner. I had to do a brusk reduction on the size, so now I don't have a dataset that is that big. My goal here is just to get some sampling of 80% of the already reduced dataset."
   ]
  },
  {
   "cell_type": "code",
   "execution_count": 31,
   "metadata": {},
   "outputs": [],
   "source": [
    "## Variables for the sampling conditions\n",
    "sample_size, random_state = 3200, 42\n",
    "sampled_data = []\n",
    "sentiments_processed_df = pd.read_csv('datasets/twitter_sentiment_base_ready.csv')\n",
    "\n",
    "for i in range(6): ## Since we have 6 sentimens, labeled from 0 to 5\n",
    "    sampled_data.append(sentiments_processed_df[sentiments_processed_df['label'] == i].sample(n=sample_size, random_state=random_state))\n",
    "\n",
    "sampled_sentiments_df = pd.concat(sampled_data)\n",
    "sampled_sentiments_df.to_csv('datasets/twitter_sentiments_base_sampled.csv', index=False)"
   ]
  },
  {
   "cell_type": "markdown",
   "metadata": {},
   "source": [
    "## Attribute selection (w/ Decision Trees)"
   ]
  },
  {
   "cell_type": "markdown",
   "metadata": {},
   "source": [
    "Decision trees are quite useful for the purpose of doing attribute (or feature) selection because they inherently perform feature selection by splitting nodes based on the most informative features. By using a decision tree, we can identify which attributes (or features) contribute most to predicting the output, making it a practical approach for reducing dimensionality and improving model interpretability."
   ]
  },
  {
   "cell_type": "code",
   "execution_count": 8,
   "metadata": {},
   "outputs": [],
   "source": [
    "from sklearn.tree import DecisionTreeClassifier\n",
    "from sklearn.model_selection import train_test_split\n",
    "\n",
    "sentiments_embeddings_train, sentiments_embeddings_test, sentiments_labels_train, sentiments_labels_test = train_test_split(sentiments_features, labels, test_size=0.2, random_state=42)\n",
    "\n",
    "# Initialize the classifier\n",
    "decision_tree = DecisionTreeClassifier(random_state=42)\n",
    "\n",
    "# Fit the model\n",
    "decision_tree.fit(sentiments_embeddings_train, sentiments_labels_train)\n",
    "\n",
    "# Get feature importances\n",
    "importances = decision_tree.feature_importances_\n",
    "\n",
    "# Now we sort the importances on descending order and select the top X features - (X: originally 50)\n",
    "indices = np.argsort(importances)[::-1]\n",
    "top_features = indices[:50]\n",
    "\n",
    "# Finally, we select only the top features that were applied\n",
    "sentiments_embeddings_train_reduced = sentiments_embeddings_train[:, top_features]\n",
    "sentiments_embeddings_test_reduced = sentiments_embeddings_test[:, top_features]"
   ]
  },
  {
   "cell_type": "markdown",
   "metadata": {},
   "source": [
    "I'm adding this auxiliary block here for merging the results back to a single sentiments embeddings array."
   ]
  },
  {
   "cell_type": "code",
   "execution_count": 18,
   "metadata": {},
   "outputs": [
    {
     "data": {
      "text/plain": [
       "(24000, 50)"
      ]
     },
     "execution_count": 18,
     "metadata": {},
     "output_type": "execute_result"
    }
   ],
   "source": [
    "sentiments_embeddings_decision_tree = np.concatenate((sentiments_embeddings_train_reduced, sentiments_embeddings_test_reduced))\n",
    "sentiments_embeddings_decision_tree.shape"
   ]
  },
  {
   "cell_type": "code",
   "execution_count": 22,
   "metadata": {},
   "outputs": [
    {
     "data": {
      "image/png": "[encoded data removed]",
      "text/plain": [
       "<Figure size 1000x800 with 1 Axes>"
      ]
     },
     "metadata": {},
     "output_type": "display_data"
    }
   ],
   "source": [
    "import matplotlib.pyplot as plt\n",
    "\n",
    "plt.figure(figsize=(10, 8))\n",
    "plt.title(\"Attribute selection using Decision Tree\")\n",
    "plt.bar(range(sentiments_embeddings_train_reduced.shape[1]), importances[top_features], align='center')\n",
    "plt.xticks(range(sentiments_embeddings_train_reduced.shape[1]), top_features, rotation=90)\n",
    "plt.xlim([-1, sentiments_embeddings_train_reduced.shape[1]])\n",
    "\n",
    "plt.show()"
   ]
  },
  {
   "cell_type": "markdown",
   "metadata": {},
   "source": [
    "## Principal Component Analysis (PCA)\n",
    "\n",
    "Running Principal Component Analysis (PCA) is a powerful method to reduce the dimensionality of our data while retaining as much variability as possible. "
   ]
  },
  {
   "cell_type": "code",
   "execution_count": 22,
   "metadata": {},
   "outputs": [
    {
     "name": "stdout",
     "output_type": "stream",
     "text": [
      "Number of components kept: 214\n"
     ]
    }
   ],
   "source": [
    "from sklearn.preprocessing import StandardScaler\n",
    "from sklearn.decomposition import PCA\n",
    "\n",
    "scaler = StandardScaler()\n",
    "sentiments_features_scaled = scaler.fit_transform(sentiments_features)\n",
    "\n",
    "# Choose the number of components (example: reduce dimensions to keep 95% of the variance)\n",
    "pca = PCA(n_components=0.95)\n",
    "sentiments_pca = pca.fit_transform(sentiments_features_scaled)\n",
    "\n",
    "print(f\"Number of components kept: {pca.n_components_}\")"
   ]
  },
  {
   "cell_type": "markdown",
   "metadata": {},
   "source": [
    "Now, let's examine the explained variance of the PCA. This will tell us how much information (variability) was retained."
   ]
  },
  {
   "cell_type": "code",
   "execution_count": 23,
   "metadata": {},
   "outputs": [
    {
     "name": "stdout",
     "output_type": "stream",
     "text": [
      "Explained variance by each component: [0.13098411 0.09063568 0.05532153 0.05026966 0.03718181 0.0335627\n",
      " 0.0309852  0.02734337 0.0227272  0.02120668 0.01880902 0.01750765\n",
      " 0.01609287 0.01548563 0.01466154 0.01341947 0.01170103 0.0106961\n",
      " 0.00984342 0.00928938 0.00894261 0.00857401 0.00804609 0.00794713\n",
      " 0.00754434 0.00692301 0.00656436 0.00629978 0.00601705 0.00585967\n",
      " 0.00556609 0.0052062  0.00501069 0.00494067 0.00479707 0.0044747\n",
      " 0.00426741 0.00422726 0.00414841 0.00405941 0.00389931 0.00388706\n",
      " 0.00369942 0.00356525 0.00352549 0.0033838  0.00334331 0.00321038\n",
      " 0.00312165 0.00301219 0.00290797 0.00276007 0.00272287 0.00267909\n",
      " 0.00256318 0.00250167 0.00243577 0.00240358 0.00231875 0.00229849\n",
      " 0.00227383 0.00217715 0.00214474 0.00213408 0.00209029 0.0020382\n",
      " 0.00202275 0.00193709 0.00189465 0.00186346 0.0018465  0.00180737\n",
      " 0.00179504 0.00171924 0.00168555 0.00164337 0.00163096 0.00159486\n",
      " 0.00155878 0.00151573 0.00150573 0.0014916  0.00145182 0.00144282\n",
      " 0.00142747 0.00140939 0.00138761 0.00135    0.00133581 0.00131817\n",
      " 0.00129934 0.00127723 0.00126069 0.00122679 0.00120946 0.0012004\n",
      " 0.00115898 0.00113244 0.00112307 0.00111521 0.00109563 0.00109178\n",
      " 0.00106895 0.00105195 0.00103427 0.00102576 0.00100751 0.00099823\n",
      " 0.00098769 0.0009849  0.00096057 0.00094161 0.00092926 0.00092053\n",
      " 0.00090602 0.00089388 0.00087631 0.00087216 0.00085686 0.00085128\n",
      " 0.00084563 0.00083239 0.00082037 0.00081366 0.0008028  0.00079161\n",
      " 0.00077944 0.00077152 0.0007624  0.0007501  0.00074548 0.00074215\n",
      " 0.00073044 0.00072809 0.00071221 0.00070768 0.00069677 0.00069022\n",
      " 0.00068046 0.00067742 0.00066955 0.00066194 0.00064702 0.00064619\n",
      " 0.00063685 0.00063252 0.00062119 0.00061648 0.00061111 0.0006063\n",
      " 0.00059576 0.00058796 0.00058533 0.00057398 0.00057133 0.0005662\n",
      " 0.00055748 0.00055574 0.00054546 0.00054166 0.00053715 0.00053381\n",
      " 0.00052785 0.00051963 0.00051723 0.00051528 0.00051099 0.00050652\n",
      " 0.00050291 0.00049864 0.00049317 0.0004901  0.00048124 0.00047644\n",
      " 0.0004712  0.00046784 0.00046278 0.00045588 0.00045003 0.00044793\n",
      " 0.00044562 0.00043882 0.00043634 0.00043481 0.00042993 0.00042414\n",
      " 0.00042288 0.00041575 0.00041086 0.00040685 0.00040307 0.00040141\n",
      " 0.00039776 0.0003976  0.00039052 0.00038873 0.00038824 0.00038436\n",
      " 0.00038086 0.00037767 0.0003726  0.00036888 0.00036676 0.00036614\n",
      " 0.00036013 0.00035521 0.00035344 0.00035167 0.00034614 0.00034331\n",
      " 0.00033869 0.00033537 0.00033212 0.00033057]\n",
      "Total variance explained: 0.9503069056372624\n"
     ]
    }
   ],
   "source": [
    "explained_variance = pca.explained_variance_ratio_\n",
    "print(f\"Explained variance by each component: {explained_variance}\")\n",
    "print(f\"Total variance explained: {sum(explained_variance)}\")"
   ]
  },
  {
   "cell_type": "markdown",
   "metadata": {},
   "source": [
    "Let us now finally visualize the transformed data."
   ]
  },
  {
   "cell_type": "code",
   "execution_count": 24,
   "metadata": {},
   "outputs": [
    {
     "data": {
      "image/png": "[encoded data removed]",
      "text/plain": [
       "<Figure size 1000x800 with 1 Axes>"
      ]
     },
     "metadata": {},
     "output_type": "display_data"
    }
   ],
   "source": [
    "import matplotlib.pyplot as plt\n",
    "\n",
    "plt.figure(figsize=(10, 8))\n",
    "plt.plot(range(1, 215), pca.explained_variance_ratio_, marker='o', linestyle='--')\n",
    "plt.title('Scree Plot')\n",
    "plt.xlabel('Number of Components')\n",
    "plt.ylabel('Variance Explained')\n",
    "plt.show()"
   ]
  },
  {
   "cell_type": "markdown",
   "metadata": {},
   "source": [
    "The scree plot generated is a graphical representation of the variance explained by each principal component the analysis.\n",
    "\n",
    "The x-axis represents the number of principal components. In the plot, it ranges from 1 to over 200.\n",
    "The y-axis represents the variance explained by each principal component. It shows the proportion of the dataset’s total variance.\n",
    "Elbow Method: Typically, the goal of a scree plot is to identify the 'elbow' of the graph, which indicates the point at which the variance explained by each additional component drops off and becomes minimal. This point is considered a good cut-off for reducing the number of components because beyond this point, you're getting diminishing returns on explained variance.\n",
    "\n",
    "In our plot, there is a steep drop after the first few components, then the decline slows significantly. This suggests that the first few components capture a substantial amount of the information (variance) in the dataset. After this initial steep drop, the plot levels off around the 40-component mark, indicating that each additional component contributes less and less.\n",
    "\n",
    "It’s worth noting that the first component explains significantly more variance than the subsequent ones. In practical terms, this could mean that there is one dominant feature or pattern in your data that accounts for most of the variance, with each additional feature contributing less to explaining the dataset.\n",
    "\n",
    "Based on this plot, we might consider retaining only the components before the curve starts to flatten if you aim to reduce dimensionality while retaining most of the information.\n",
    "\n",
    "That's why I'm going to run the PCA algorithm again, but changing the n parameter."
   ]
  },
  {
   "cell_type": "code",
   "execution_count": 25,
   "metadata": {},
   "outputs": [
    {
     "name": "stdout",
     "output_type": "stream",
     "text": [
      "Number of components kept: 29\n"
     ]
    }
   ],
   "source": [
    "pca_round_two = PCA(n_components=0.70)\n",
    "sentiments_pca = pca_round_two.fit_transform(sentiments_features_scaled)\n",
    "\n",
    "print(f\"Number of components kept: {pca_round_two.n_components_}\")"
   ]
  },
  {
   "cell_type": "markdown",
   "metadata": {},
   "source": [
    "Now let's generate this scree plot again:"
   ]
  },
  {
   "cell_type": "code",
   "execution_count": 26,
   "metadata": {},
   "outputs": [
    {
     "data": {
      "image/png": "[encoded data removed]",
      "text/plain": [
       "<Figure size 1000x800 with 1 Axes>"
      ]
     },
     "metadata": {},
     "output_type": "display_data"
    }
   ],
   "source": [
    "plt.figure(figsize=(10, 8))\n",
    "plt.plot(range(1, 30), pca_round_two.explained_variance_ratio_, marker='o', linestyle='--')\n",
    "plt.title('Scree Plot')\n",
    "plt.xlabel('Number of Components')\n",
    "plt.ylabel('Variance Explained')\n",
    "plt.show()"
   ]
  },
  {
   "cell_type": "markdown",
   "metadata": {},
   "source": [
    "## Multinomial Logistic Regression\n",
    "\n",
    "Given that the dataset has 6 possible sentiments (labels), it won't be possible to run Logistic Regression (because the data decision is not binary). Because of that, we can investigate the behavior of applying a multinomial logistic regression classification algorithm."
   ]
  },
  {
   "cell_type": "code",
   "execution_count": 12,
   "metadata": {},
   "outputs": [],
   "source": [
    "from sklearn.model_selection import train_test_split\n",
    "from sklearn.linear_model import LogisticRegression\n",
    "from sklearn.model_selection import cross_val_score\n",
    "\n",
    "# Percentage test split method - can adjust percentage\n",
    "train_features, test_features, train_labels, test_labels = train_test_split(sentiments_features, labels, test_size=0.3, random_state=42)\n",
    "\n",
    "# Invoking the logistic regression model\n",
    "logistic_regression_sentiments = LogisticRegression(multi_class='multinomial', solver='saga', max_iter=1500)"
   ]
  },
  {
   "cell_type": "markdown",
   "metadata": {},
   "source": [
    "Now, let's actually run the multinomial logistic regression."
   ]
  },
  {
   "cell_type": "code",
   "execution_count": 13,
   "metadata": {},
   "outputs": [
    {
     "name": "stderr",
     "output_type": "stream",
     "text": [
      "/opt/homebrew/lib/python3.11/site-packages/sklearn/linear_model/_sag.py:350: ConvergenceWarning: The max_iter was reached which means the coef_ did not converge\n",
      "  warnings.warn(\n",
      "/opt/homebrew/lib/python3.11/site-packages/sklearn/linear_model/_sag.py:350: ConvergenceWarning: The max_iter was reached which means the coef_ did not converge\n",
      "  warnings.warn(\n",
      "/opt/homebrew/lib/python3.11/site-packages/sklearn/linear_model/_sag.py:350: ConvergenceWarning: The max_iter was reached which means the coef_ did not converge\n",
      "  warnings.warn(\n"
     ]
    }
   ],
   "source": [
    "# Runs the model with the percentage split dataset method - uncomment if needed\n",
    "# logistic_regression_sentiments.fit(train_features, train_labels)\n",
    "\n",
    "# Runs the model with the 10-fold cross-validation dataset method - uncomment if needed\n",
    "scores = cross_val_score(logistic_regression_sentiments, sentiments_features, labels, cv=10)"
   ]
  },
  {
   "cell_type": "markdown",
   "metadata": {},
   "source": [
    "Now let's see the score (accuracy) of the algorithm:"
   ]
  },
  {
   "cell_type": "code",
   "execution_count": 14,
   "metadata": {},
   "outputs": [
    {
     "name": "stdout",
     "output_type": "stream",
     "text": [
      "Average Accuracy (10-fold) 0.6074583333333334\n",
      "Standard Deviation of Accuracy: 0.011299966199556134\n"
     ]
    }
   ],
   "source": [
    "#print(\"Accuracy using the percentage split dataset:\", logistic_regression_sentiments.score(test_features, test_labels))\n",
    "print(\"Average Accuracy (10-fold)\", scores.mean())\n",
    "print(\"Standard Deviation of Accuracy:\", scores.std())"
   ]
  },
  {
   "cell_type": "markdown",
   "metadata": {},
   "source": [
    "## k-Nearest Neighbors (kNN)"
   ]
  },
  {
   "cell_type": "markdown",
   "metadata": {},
   "source": [
    "Let us implement the k-Nearest Neighbors algorithm and understand how it behaves with our sentiments dataset."
   ]
  },
  {
   "cell_type": "code",
   "execution_count": 48,
   "metadata": {},
   "outputs": [],
   "source": [
    "from sklearn.model_selection import train_test_split\n",
    "from sklearn.neighbors import KNeighborsClassifier\n",
    "from sklearn.metrics import accuracy_score\n",
    "\n",
    "# Percentage test split method - can adjust percentage\n",
    "train_features, test_features, train_labels, test_labels = train_test_split(sentiments_features, labels, test_size=0.3, random_state=42)\n",
    "\n",
    "# Create the KNN model with a specified number of neighbors; e.g., k=5\n",
    "knn = KNeighborsClassifier(n_neighbors=5)"
   ]
  },
  {
   "cell_type": "markdown",
   "metadata": {},
   "source": [
    "Now let's actually run the kNN Algorithm, with the parameters adjusted as above. This version comprehends the percentage test split, but I'll also show it using the 10-fold cross validation method."
   ]
  },
  {
   "cell_type": "code",
   "execution_count": 49,
   "metadata": {},
   "outputs": [
    {
     "name": "stdout",
     "output_type": "stream",
     "text": [
      "Accuracy of kNN (5 neighbors, 70/30 split): 0.3075\n"
     ]
    }
   ],
   "source": [
    "# Training the model\n",
    "knn.fit(train_features, train_labels)\n",
    "\n",
    "# Predicting the test set\n",
    "labels_predict = knn.predict(test_features)\n",
    "\n",
    "print(\"Accuracy of kNN (5 neighbors, 70/30 split):\", accuracy_score(test_labels, labels_predict))"
   ]
  },
  {
   "cell_type": "markdown",
   "metadata": {},
   "source": [
    "kNN via the 10-fold cross-validation method:"
   ]
  },
  {
   "cell_type": "code",
   "execution_count": 53,
   "metadata": {},
   "outputs": [
    {
     "name": "stdout",
     "output_type": "stream",
     "text": [
      "Accuracy from this fold: 0.3070833333333333\n",
      "Accuracy from this fold: 0.3129166666666667\n",
      "Accuracy from this fold: 0.30375\n",
      "Accuracy from this fold: 0.30916666666666665\n",
      "Accuracy from this fold: 0.32666666666666666\n",
      "Accuracy from this fold: 0.3045833333333333\n",
      "Accuracy from this fold: 0.3016666666666667\n",
      "Accuracy from this fold: 0.31833333333333336\n",
      "Accuracy from this fold: 0.30583333333333335\n",
      "Accuracy from this fold: 0.3075\n",
      "Average accuracy: 0.30975\n",
      "Standard deviation of accuracy: 0.007250957791139655\n"
     ]
    }
   ],
   "source": [
    "from sklearn.model_selection import KFold\n",
    "\n",
    "# Define the KFold cross-validator\n",
    "kf = KFold(n_splits=10, shuffle=True, random_state=42)\n",
    "\n",
    "# Create the KNN model\n",
    "knn = KNeighborsClassifier(n_neighbors=5)\n",
    "\n",
    "# Prepare to collect accuracy scores\n",
    "accuracies = []\n",
    "\n",
    "knn_labels = np.array(labels)\n",
    "\n",
    "# Perform 10-fold CV\n",
    "for train_index, test_index in kf.split(sentiments_features):\n",
    "    sentiments_train, sentiments_test = sentiments_features[train_index], sentiments_features[test_index]\n",
    "    labels_train, labels_test = knn_labels[train_index], knn_labels[test_index]\n",
    "\n",
    "    # Train the kNN Model inside the current fold\n",
    "    knn.fit(sentiments_train, labels_train)\n",
    "\n",
    "    # Predict and evaluate the model\n",
    "    labels_predict = knn.predict(sentiments_test)\n",
    "    accuracy = accuracy_score(labels_test, labels_predict)\n",
    "    accuracies.append(accuracy)\n",
    "    print(\"Accuracy from this fold:\", accuracy)\n",
    "\n",
    "# Calculate and print the average accuracy and standard deviation\n",
    "print(\"Average accuracy:\", np.mean(accuracies))\n",
    "print(\"Standard deviation of accuracy:\", np.std(accuracies))"
   ]
  },
  {
   "cell_type": "markdown",
   "metadata": {},
   "source": [
    "## Decision Tree Classifier\n",
    "\n",
    "Implementing the Decision Tree Classifier and varying its max depth to compare accuracy. This is using the percentage split method of collecting the data from the dataset."
   ]
  },
  {
   "cell_type": "code",
   "execution_count": 60,
   "metadata": {},
   "outputs": [
    {
     "name": "stdout",
     "output_type": "stream",
     "text": [
      "Accuracy of Decision Tree Classifier (5 Max-Depth, 70/30 split): 0.26916666666666667\n"
     ]
    }
   ],
   "source": [
    "from sklearn.model_selection import train_test_split\n",
    "from sklearn.tree import DecisionTreeClassifier\n",
    "from sklearn.metrics import accuracy_score\n",
    "\n",
    "# Percentage test split method - can adjust percentage\n",
    "train_features, test_features, train_labels, test_labels = train_test_split(sentiments_features, labels, test_size=0.3, random_state=42)\n",
    "\n",
    "# Create the Decision Tree Classifier (DTC) model with a specified max depth; e.g., md =5\n",
    "dtc = DecisionTreeClassifier(max_depth=7, random_state=42)\n",
    "\n",
    "# Training the model\n",
    "dtc.fit(train_features, train_labels)\n",
    "\n",
    "# Predicting the test set\n",
    "labels_predict = dtc.predict(test_features)\n",
    "\n",
    "print(\"Accuracy of Decision Tree Classifier (5 Max-Depth, 70/30 split):\", accuracy_score(test_labels, labels_predict))"
   ]
  },
  {
   "cell_type": "markdown",
   "metadata": {},
   "source": [
    "Now implementing it via the 10-fold cross-validation method:"
   ]
  },
  {
   "cell_type": "code",
   "execution_count": 51,
   "metadata": {},
   "outputs": [
    {
     "name": "stdout",
     "output_type": "stream",
     "text": [
      "Accuracy from this fold: 0.26916666666666667\n",
      "Accuracy from this fold: 0.27125\n",
      "Accuracy from this fold: 0.27666666666666667\n",
      "Accuracy from this fold: 0.2725\n",
      "Accuracy from this fold: 0.2633333333333333\n",
      "Accuracy from this fold: 0.2529166666666667\n",
      "Accuracy from this fold: 0.2866666666666667\n",
      "Accuracy from this fold: 0.26916666666666667\n",
      "Accuracy from this fold: 0.27208333333333334\n",
      "Accuracy from this fold: 0.2608333333333333\n",
      "Average accuracy: 0.26945833333333336\n",
      "Standard deviation of accuracy: 0.008678377504528783\n"
     ]
    }
   ],
   "source": [
    "from sklearn.model_selection import KFold\n",
    "\n",
    "# Define the KFold cross-validator\n",
    "kf = KFold(n_splits=10, shuffle=True, random_state=42)\n",
    "\n",
    "# Create the Decision Tree Classifier (DTC) model with a specified max depth; e.g., md =5\n",
    "dtc = DecisionTreeClassifier(max_depth=7, random_state=42)\n",
    "\n",
    "# Prepare to collect accuracy scores\n",
    "accuracies = []\n",
    "\n",
    "dtc_labels = np.array(labels)\n",
    "\n",
    "# Perform 10-fold CV\n",
    "for train_index, test_index in kf.split(sentiments_features):\n",
    "    sentiments_train, sentiments_test = sentiments_features[train_index], sentiments_features[test_index]\n",
    "    labels_train, labels_test = dtc_labels[train_index], dtc_labels[test_index]\n",
    "\n",
    "    # Train the DTC Model inside the current fold\n",
    "    dtc.fit(sentiments_train, labels_train)\n",
    "\n",
    "    # Predict and evaluate the model\n",
    "    labels_predict = dtc.predict(sentiments_test)\n",
    "    accuracy = accuracy_score(labels_test, labels_predict)\n",
    "    accuracies.append(accuracy)\n",
    "    print(\"Accuracy from this fold:\", accuracy)\n",
    "\n",
    "# Calculate and print the average accuracy and standard deviation\n",
    "print(\"Average accuracy:\", np.mean(accuracies))\n",
    "print(\"Standard deviation of accuracy:\", np.std(accuracies))"
   ]
  },
  {
   "cell_type": "markdown",
   "metadata": {},
   "source": [
    "## Use this block when you want to import the data from previously saved datasets"
   ]
  },
  {
   "cell_type": "code",
   "execution_count": 48,
   "metadata": {},
   "outputs": [],
   "source": [
    "working_base = pd.read_csv('datasets/twitter_sentiment_base_pca.csv')\n",
    "sentiments_features = working_base.loc[:, working_base.columns.str.startswith('feature_')].to_numpy()\n",
    "labels = working_base['label'].to_numpy()"
   ]
  }
 ],
 "metadata": {
  "kernelspec": {
   "display_name": "Python 3",
   "language": "python",
   "name": "python3"
  },
  "language_info": {
   "codemirror_mode": {
    "name": "ipython",
    "version": 3
   },
   "file_extension": ".py",
   "mimetype": "text/x-python",
   "name": "python",
   "nbconvert_exporter": "python",
   "pygments_lexer": "ipython3",
   "version": "3.11.4"
  }
 },
 "nbformat": 4,
 "nbformat_minor": 2
}
